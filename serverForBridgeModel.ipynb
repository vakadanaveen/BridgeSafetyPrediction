{
 "cells": [
  {
   "cell_type": "code",
   "execution_count": 2,
   "metadata": {},
   "outputs": [
    {
     "data": {
      "text/plain": [
       "\"import socket\\nprint(socket.gethostbyname(socket.getfqdn(socket.gethostname())))\\nfrom flask import Flask, redirect, url_for, request\\napp = Flask(__name__)\\n\\n@app.route('/success/<name>')\\ndef success(name):\\n   return 'welcome %s' % name\\n\\n@app.route('/login',methods = ['POST', 'GET'])\\ndef login():\\n   if request.method == 'POST':\\n      user = request.form['nm']\\n      return redirect(url_for('success',name = user))\\n   else:\\n      user = request.args.get('nm')\\n      return redirect(url_for('success',name = user))\\nimport threading\\nthreading.Thread(target=app.run, kwargs={'host':'0.0.0.0','port':80}).start() \""
      ]
     },
     "execution_count": 2,
     "metadata": {},
     "output_type": "execute_result"
    }
   ],
   "source": [
    "'''import socket\n",
    "print(socket.gethostbyname(socket.getfqdn(socket.gethostname())))\n",
    "from flask import Flask, redirect, url_for, request\n",
    "app = Flask(__name__)\n",
    "\n",
    "@app.route('/success/<name>')\n",
    "def success(name):\n",
    "   return 'welcome %s' % name\n",
    "\n",
    "@app.route('/login',methods = ['POST', 'GET'])\n",
    "def login():\n",
    "   if request.method == 'POST':\n",
    "      user = request.form['nm']\n",
    "      return redirect(url_for('success',name = user))\n",
    "   else:\n",
    "      user = request.args.get('nm')\n",
    "      return redirect(url_for('success',name = user))\n",
    "import threading\n",
    "threading.Thread(target=app.run, kwargs={'host':'0.0.0.0','port':80}).start() '''\n"
   ]
  },
  {
   "cell_type": "code",
   "execution_count": 1,
   "metadata": {},
   "outputs": [],
   "source": [
    "import numpy as np\n",
    "from sklearn.externals import joblib "
   ]
  },
  {
   "cell_type": "code",
   "execution_count": 2,
   "metadata": {},
   "outputs": [],
   "source": [
    "def bridgePrediction(L,N,LOCATION):\n",
    "    reg_from_joblib = joblib.load('model.pkl')  \n",
    "    d={\n",
    "        \"Alabama\": 84000,\n",
    "        \"Alaska\" : 145000,\n",
    "        \"Arizona\": 80000\n",
    "    }\n",
    "    # Use the loaded model to make predictions \n",
    "    #reg_from_joblib.predict(x_test) \n",
    "    test_yourself = np.array([[L,N]]) # Give your value here\n",
    "    pv = reg_from_joblib.predict(test_yourself)\n",
    "    if (pv > d[LOCATION]):\n",
    "      return \"Not safe\"\n",
    "    else:\n",
    "      return \"You are safe to drive in \"+LOCATION\n"
   ]
  },
  {
   "cell_type": "code",
   "execution_count": 3,
   "metadata": {},
   "outputs": [
    {
     "name": "stdout",
     "output_type": "stream",
     "text": [
      "172.30.128.1\n",
      " * Serving Flask app \"__main__\" (lazy loading)\n",
      " * Environment: production\n",
      "   WARNING: Do not use the development server in a production environment.\n",
      "   Use a production WSGI server instead.\n"
     ]
    }
   ],
   "source": [
    "import socket\n",
    "print(socket.gethostbyname(socket.getfqdn(socket.gethostname())))\n",
    "from flask import Flask, redirect, url_for, request\n",
    "app = Flask(__name__)\n",
    "\n",
    "'''@app.route('/success/<name>')\n",
    "def success(name):\n",
    "    return name'''\n",
    "\n",
    "@app.route('/login',methods = ['POST', 'GET'])\n",
    "def login():\n",
    "    if request.method == 'POST':\n",
    "        L = int(request.form['L'])\n",
    "        N = int(request.form['N'])\n",
    "        loc = request.form['loc']\n",
    "        res = bridgePrediction(L,N,loc)\n",
    "        return res#redirect(url_for('success',name = res))\n",
    "    else:\n",
    "        #user = request.args.get('nm')\n",
    "        return 'sorry'#redirect(url_for('success',name = 'sorry'))\n",
    "import threading\n",
    "threading.Thread(target=app.run, kwargs={'host':'0.0.0.0','port':80}).start()"
   ]
  },
  {
   "cell_type": "code",
   "execution_count": null,
   "metadata": {},
   "outputs": [],
   "source": []
  }
 ],
 "metadata": {
  "kernelspec": {
   "display_name": "Python 2",
   "language": "python",
   "name": "python2"
  },
  "language_info": {
   "codemirror_mode": {
    "name": "ipython",
    "version": 2
   },
   "file_extension": ".py",
   "mimetype": "text/x-python",
   "name": "python",
   "nbconvert_exporter": "python",
   "pygments_lexer": "ipython2",
   "version": "2.7.15"
  }
 },
 "nbformat": 4,
 "nbformat_minor": 2
}
